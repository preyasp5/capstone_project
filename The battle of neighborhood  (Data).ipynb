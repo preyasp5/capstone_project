{
 "cells": [
  {
   "cell_type": "markdown",
   "metadata": {},
   "source": [
    "# Data\n",
    "For this project we need the following data :\n",
    "\n",
    "New York City data that contains list Boroughs, Neighborhoods along with their latitude and longitude.\n",
    "Data source : https://cocl.us/new_york_dataset\n",
    "Description : This data set contains the required information. And we will use this data set to explore various neighborhoods of new york city.\n",
    "Indian resturants in each neighborhood of new york city.\n",
    "Data source : Fousquare API\n",
    "Description : By using this api we will get all the venues in each neighborhood. We can filter these venues to get only indian resturants.\n",
    "GeoSpace data\n",
    "Data source : https://data.cityofnewyork.us/City-Government/Borough-Boundaries/tqmj-j8zm\n",
    "Description : By using this geo space data we will get the New york Borough boundaries that will help us visualize choropleth map."
   ]
  },
  {
   "cell_type": "code",
   "execution_count": null,
   "metadata": {},
   "outputs": [],
   "source": []
  }
 ],
 "metadata": {
  "kernelspec": {
   "display_name": "Python 3",
   "language": "python",
   "name": "python3"
  },
  "language_info": {
   "codemirror_mode": {
    "name": "ipython",
    "version": 3
   },
   "file_extension": ".py",
   "mimetype": "text/x-python",
   "name": "python",
   "nbconvert_exporter": "python",
   "pygments_lexer": "ipython3",
   "version": "3.7.6"
  }
 },
 "nbformat": 4,
 "nbformat_minor": 2
}
